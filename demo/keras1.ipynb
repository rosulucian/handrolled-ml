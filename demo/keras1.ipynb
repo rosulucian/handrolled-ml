{
 "cells": [
  {
   "cell_type": "code",
   "execution_count": 1,
   "metadata": {},
   "outputs": [],
   "source": [
    "import os\n",
    "import sys\n",
    "module_path = os.path.abspath(os.path.join('..'))\n",
    "if module_path not in sys.path:\n",
    "    sys.path.append(module_path)"
   ]
  },
  {
   "cell_type": "code",
   "execution_count": 2,
   "metadata": {},
   "outputs": [
    {
     "data": {
      "text/plain": [
       "True"
      ]
     },
     "execution_count": 2,
     "metadata": {},
     "output_type": "execute_result"
    }
   ],
   "source": [
    "import numpy as np\n",
    "import pandas as pd\n",
    "import matplotlib.pyplot as plt\n",
    "\n",
    "from models.neural_network import neural_network\n",
    "from utils.datasets import load_cats\n",
    "from dotenv import load_dotenv\n",
    "load_dotenv()"
   ]
  },
  {
   "cell_type": "code",
   "execution_count": 5,
   "metadata": {},
   "outputs": [],
   "source": [
    "import tensorflow as tf\n",
    "from tensorflow import keras\n",
    "from tensorflow.keras import layers"
   ]
  },
  {
   "cell_type": "code",
   "execution_count": 6,
   "metadata": {},
   "outputs": [],
   "source": [
    "cats = os.getenv('CATS')\n",
    "train_file = os.path.join(cats, 'train.h5')\n",
    "test_file = os.path.join(cats, 'test.h5')\n",
    "x_train, y_train, x_test, y_test, classes = load_cats(train_file, test_file)"
   ]
  },
  {
   "cell_type": "code",
   "execution_count": 18,
   "metadata": {},
   "outputs": [],
   "source": [
    "def keras_model(input_shape, name='model'):\n",
    "    \"\"\"\n",
    "    Keras model\n",
    "    \n",
    "    Arguments:\n",
    "    input_shape -- shape of the images of the dataset\n",
    "        (height, width, channels) as a tuple.  \n",
    "        Note that this does not include the 'batch' as a dimension.\n",
    "        If you have a batch like 'X_train', \n",
    "        then you can provide the input_shape using\n",
    "        X_train.shape[1:]\n",
    "    \"\"\"    \n",
    "\n",
    "    X_input = keras.Input(input_shape)\n",
    "\n",
    "    # Zero-Padding: pads the border of X_input with zeroes\n",
    "    X = layers.ZeroPadding2D((3, 3))(X_input)\n",
    "\n",
    "    # CONV -> BN -> RELU Block applied to X\n",
    "    X = layers.Conv2D(32, (7, 7), strides = (1, 1), name = 'conv0')(X)\n",
    "    X = layers.BatchNormalization(axis = 3, name = 'bn0')(X)\n",
    "    X = layers.Activation('relu')(X)\n",
    "\n",
    "    # MAXPOOL\n",
    "    X = layers.MaxPooling2D((2, 2), name='max_pool')(X)\n",
    "\n",
    "    # FLATTEN X (means convert it to a vector) + FULLYCONNECTED\n",
    "    X = layers.Flatten()(X)\n",
    "    X = layers.Dense(1, activation='sigmoid', name='fc')(X)\n",
    "\n",
    "    # Create model. This creates your Keras model instance, you'll use this instance to train/test the model.\n",
    "    model = keras.Model(inputs = X_input, outputs = X, name=name)\n",
    "    \n",
    "    return model"
   ]
  },
  {
   "cell_type": "code",
   "execution_count": 35,
   "metadata": {},
   "outputs": [],
   "source": [
    "y_train_reshaped = y_train.reshape(209,1) # from (1,209)\n",
    "y_test = y_test.reshape(50,1) "
   ]
  },
  {
   "cell_type": "code",
   "execution_count": 19,
   "metadata": {},
   "outputs": [],
   "source": [
    "model = keras_model(x_train.shape[1:])"
   ]
  },
  {
   "cell_type": "code",
   "execution_count": 20,
   "metadata": {},
   "outputs": [],
   "source": [
    "model.compile(optimizer = \"adam\", loss = 'binary_crossentropy', metrics = [\"accuracy\"])"
   ]
  },
  {
   "cell_type": "code",
   "execution_count": 30,
   "metadata": {},
   "outputs": [
    {
     "name": "stdout",
     "output_type": "stream",
     "text": [
      "Train on 209 samples\n",
      "Epoch 1/20\n",
      "209/209 [==============================] - 0s 1ms/sample - loss: 0.0056 - accuracy: 1.0000\n",
      "Epoch 2/20\n",
      "209/209 [==============================] - 0s 325us/sample - loss: 0.0066 - accuracy: 1.0000\n",
      "Epoch 3/20\n",
      "209/209 [==============================] - 0s 292us/sample - loss: 0.0060 - accuracy: 1.0000\n",
      "Epoch 4/20\n",
      "209/209 [==============================] - 0s 296us/sample - loss: 0.0049 - accuracy: 1.0000\n",
      "Epoch 5/20\n",
      "209/209 [==============================] - 0s 297us/sample - loss: 0.0061 - accuracy: 1.0000\n",
      "Epoch 6/20\n",
      "209/209 [==============================] - 0s 306us/sample - loss: 0.0069 - accuracy: 1.0000\n",
      "Epoch 7/20\n",
      "209/209 [==============================] - 0s 301us/sample - loss: 0.0087 - accuracy: 1.0000\n",
      "Epoch 8/20\n",
      "209/209 [==============================] - 0s 298us/sample - loss: 0.0065 - accuracy: 1.0000\n",
      "Epoch 9/20\n",
      "209/209 [==============================] - 0s 301us/sample - loss: 0.0053 - accuracy: 1.0000\n",
      "Epoch 10/20\n",
      "209/209 [==============================] - 0s 319us/sample - loss: 0.0044 - accuracy: 1.0000\n",
      "Epoch 11/20\n",
      "209/209 [==============================] - 0s 287us/sample - loss: 0.0041 - accuracy: 1.0000\n",
      "Epoch 12/20\n",
      "209/209 [==============================] - 0s 298us/sample - loss: 0.0039 - accuracy: 1.0000\n",
      "Epoch 13/20\n",
      "209/209 [==============================] - 0s 319us/sample - loss: 0.0041 - accuracy: 1.0000\n",
      "Epoch 14/20\n",
      "209/209 [==============================] - 0s 330us/sample - loss: 0.0043 - accuracy: 1.0000\n",
      "Epoch 15/20\n",
      "209/209 [==============================] - 0s 297us/sample - loss: 0.0042 - accuracy: 1.0000\n",
      "Epoch 16/20\n",
      "209/209 [==============================] - 0s 287us/sample - loss: 0.0036 - accuracy: 1.0000\n",
      "Epoch 17/20\n",
      "209/209 [==============================] - 0s 316us/sample - loss: 0.0039 - accuracy: 1.0000\n",
      "Epoch 18/20\n",
      "209/209 [==============================] - 0s 292us/sample - loss: 0.0036 - accuracy: 1.0000\n",
      "Epoch 19/20\n",
      "209/209 [==============================] - 0s 287us/sample - loss: 0.0038 - accuracy: 1.0000\n",
      "Epoch 20/20\n",
      "209/209 [==============================] - 0s 297us/sample - loss: 0.0035 - accuracy: 1.0000\n"
     ]
    },
    {
     "data": {
      "text/plain": [
       "<tensorflow.python.keras.callbacks.History at 0x1996e95a308>"
      ]
     },
     "execution_count": 30,
     "metadata": {},
     "output_type": "execute_result"
    }
   ],
   "source": [
    "model.fit(x = x_train, y = y_train_reshaped, epochs = 20, batch_size = 64)"
   ]
  },
  {
   "cell_type": "code",
   "execution_count": 37,
   "metadata": {},
   "outputs": [],
   "source": [
    "preds = model.predict(x_test)"
   ]
  },
  {
   "cell_type": "code",
   "execution_count": 39,
   "metadata": {},
   "outputs": [],
   "source": [
    "predictions = (preds > 0.5).astype(float)"
   ]
  },
  {
   "cell_type": "code",
   "execution_count": 40,
   "metadata": {},
   "outputs": [],
   "source": [
    "test_accuracy = 100 - np.mean(np.abs(predictions - y_test)) * 100"
   ]
  },
  {
   "cell_type": "code",
   "execution_count": 41,
   "metadata": {},
   "outputs": [
    {
     "data": {
      "text/plain": [
       "76.0"
      ]
     },
     "execution_count": 41,
     "metadata": {},
     "output_type": "execute_result"
    }
   ],
   "source": [
    "test_accuracy"
   ]
  },
  {
   "cell_type": "code",
   "execution_count": null,
   "metadata": {},
   "outputs": [],
   "source": []
  },
  {
   "cell_type": "code",
   "execution_count": null,
   "metadata": {},
   "outputs": [],
   "source": []
  }
 ],
 "metadata": {
  "kernelspec": {
   "display_name": "Python 3",
   "language": "python",
   "name": "python3"
  },
  "language_info": {
   "codemirror_mode": {
    "name": "ipython",
    "version": 3
   },
   "file_extension": ".py",
   "mimetype": "text/x-python",
   "name": "python",
   "nbconvert_exporter": "python",
   "pygments_lexer": "ipython3",
   "version": "3.7.4"
  }
 },
 "nbformat": 4,
 "nbformat_minor": 2
}
