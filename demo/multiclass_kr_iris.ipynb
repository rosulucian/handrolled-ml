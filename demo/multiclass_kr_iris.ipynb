{
 "cells": [
  {
   "cell_type": "code",
   "execution_count": 1,
   "metadata": {},
   "outputs": [],
   "source": [
    "from pandas import read_csv\n",
    "from sklearn.model_selection import train_test_split\n",
    "from sklearn.preprocessing import LabelEncoder"
   ]
  },
  {
   "cell_type": "code",
   "execution_count": 2,
   "metadata": {},
   "outputs": [],
   "source": [
    "from tensorflow.keras import Sequential\n",
    "from tensorflow.keras.layers import Dense"
   ]
  },
  {
   "cell_type": "code",
   "execution_count": 3,
   "metadata": {},
   "outputs": [],
   "source": [
    "path = 'https://raw.githubusercontent.com/jbrownlee/Datasets/master/iris.csv'\n",
    "df = read_csv(path, header=None)"
   ]
  },
  {
   "cell_type": "code",
   "execution_count": 4,
   "metadata": {},
   "outputs": [
    {
     "data": {
      "text/html": [
       "<div>\n",
       "<style scoped>\n",
       "    .dataframe tbody tr th:only-of-type {\n",
       "        vertical-align: middle;\n",
       "    }\n",
       "\n",
       "    .dataframe tbody tr th {\n",
       "        vertical-align: top;\n",
       "    }\n",
       "\n",
       "    .dataframe thead th {\n",
       "        text-align: right;\n",
       "    }\n",
       "</style>\n",
       "<table border=\"1\" class=\"dataframe\">\n",
       "  <thead>\n",
       "    <tr style=\"text-align: right;\">\n",
       "      <th></th>\n",
       "      <th>0</th>\n",
       "      <th>1</th>\n",
       "      <th>2</th>\n",
       "      <th>3</th>\n",
       "      <th>4</th>\n",
       "    </tr>\n",
       "  </thead>\n",
       "  <tbody>\n",
       "    <tr>\n",
       "      <td>0</td>\n",
       "      <td>5.1</td>\n",
       "      <td>3.5</td>\n",
       "      <td>1.4</td>\n",
       "      <td>0.2</td>\n",
       "      <td>Iris-setosa</td>\n",
       "    </tr>\n",
       "    <tr>\n",
       "      <td>74</td>\n",
       "      <td>6.4</td>\n",
       "      <td>2.9</td>\n",
       "      <td>4.3</td>\n",
       "      <td>1.3</td>\n",
       "      <td>Iris-versicolor</td>\n",
       "    </tr>\n",
       "    <tr>\n",
       "      <td>133</td>\n",
       "      <td>6.3</td>\n",
       "      <td>2.8</td>\n",
       "      <td>5.1</td>\n",
       "      <td>1.5</td>\n",
       "      <td>Iris-virginica</td>\n",
       "    </tr>\n",
       "    <tr>\n",
       "      <td>103</td>\n",
       "      <td>6.3</td>\n",
       "      <td>2.9</td>\n",
       "      <td>5.6</td>\n",
       "      <td>1.8</td>\n",
       "      <td>Iris-virginica</td>\n",
       "    </tr>\n",
       "    <tr>\n",
       "      <td>82</td>\n",
       "      <td>5.8</td>\n",
       "      <td>2.7</td>\n",
       "      <td>3.9</td>\n",
       "      <td>1.2</td>\n",
       "      <td>Iris-versicolor</td>\n",
       "    </tr>\n",
       "  </tbody>\n",
       "</table>\n",
       "</div>"
      ],
      "text/plain": [
       "       0    1    2    3                4\n",
       "0    5.1  3.5  1.4  0.2      Iris-setosa\n",
       "74   6.4  2.9  4.3  1.3  Iris-versicolor\n",
       "133  6.3  2.8  5.1  1.5   Iris-virginica\n",
       "103  6.3  2.9  5.6  1.8   Iris-virginica\n",
       "82   5.8  2.7  3.9  1.2  Iris-versicolor"
      ]
     },
     "execution_count": 4,
     "metadata": {},
     "output_type": "execute_result"
    }
   ],
   "source": [
    "df.sample(5)"
   ]
  },
  {
   "cell_type": "code",
   "execution_count": 5,
   "metadata": {},
   "outputs": [],
   "source": [
    "x,y = df.values[:, :-1], df.values[:, -1]"
   ]
  },
  {
   "cell_type": "code",
   "execution_count": 6,
   "metadata": {},
   "outputs": [],
   "source": [
    "x = x.astype('float32')"
   ]
  },
  {
   "cell_type": "code",
   "execution_count": 7,
   "metadata": {},
   "outputs": [],
   "source": [
    "y = LabelEncoder().fit_transform(y)"
   ]
  },
  {
   "cell_type": "code",
   "execution_count": 8,
   "metadata": {},
   "outputs": [],
   "source": [
    "x_train, x_test, y_train, y_test = train_test_split(x,y, test_size=0.33)"
   ]
  },
  {
   "cell_type": "code",
   "execution_count": 9,
   "metadata": {},
   "outputs": [
    {
     "name": "stdout",
     "output_type": "stream",
     "text": [
      "(100, 4) (50, 4) (100,) (50,)\n"
     ]
    }
   ],
   "source": [
    "print(x_train.shape, x_test.shape, y_train.shape, y_test.shape)"
   ]
  },
  {
   "cell_type": "code",
   "execution_count": 15,
   "metadata": {},
   "outputs": [
    {
     "data": {
      "text/plain": [
       "3"
      ]
     },
     "execution_count": 15,
     "metadata": {},
     "output_type": "execute_result"
    }
   ],
   "source": [
    "classes = df[4].nunique()\n",
    "classes"
   ]
  },
  {
   "cell_type": "code",
   "execution_count": 31,
   "metadata": {},
   "outputs": [],
   "source": [
    "model = Sequential()\n",
    "model.add(Dense(10, activation='relu', kernel_initializer='he_normal'))\n",
    "model.add(Dense(8, activation='relu', kernel_initializer='he_normal'))\n",
    "model.add(Dense(classes, activation='softmax'))"
   ]
  },
  {
   "cell_type": "code",
   "execution_count": 32,
   "metadata": {},
   "outputs": [],
   "source": [
    "model.compile(optimizer='adam', loss='sparse_categorical_crossentropy', metrics=['accuracy'])"
   ]
  },
  {
   "cell_type": "code",
   "execution_count": 33,
   "metadata": {},
   "outputs": [
    {
     "name": "stdout",
     "output_type": "stream",
     "text": [
      "Train on 100 samples\n",
      "Epoch 1/150\n",
      "100/100 [==============================] - 0s 4ms/sample - loss: 1.1644 - accuracy: 0.2300\n",
      "Epoch 2/150\n",
      "100/100 [==============================] - 0s 260us/sample - loss: 1.0843 - accuracy: 0.4000\n",
      "Epoch 3/150\n",
      "100/100 [==============================] - 0s 270us/sample - loss: 1.0405 - accuracy: 0.3400\n",
      "Epoch 4/150\n",
      "100/100 [==============================] - 0s 280us/sample - loss: 1.0241 - accuracy: 0.2700\n",
      "Epoch 5/150\n",
      "100/100 [==============================] - 0s 270us/sample - loss: 1.0076 - accuracy: 0.3100\n",
      "Epoch 6/150\n",
      "100/100 [==============================] - 0s 280us/sample - loss: 0.9920 - accuracy: 0.3000\n",
      "Epoch 7/150\n",
      "100/100 [==============================] - 0s 300us/sample - loss: 0.9746 - accuracy: 0.3100\n",
      "Epoch 8/150\n",
      "100/100 [==============================] - 0s 270us/sample - loss: 0.9581 - accuracy: 0.3200\n",
      "Epoch 9/150\n",
      "100/100 [==============================] - 0s 270us/sample - loss: 0.9425 - accuracy: 0.3900\n",
      "Epoch 10/150\n",
      "100/100 [==============================] - 0s 270us/sample - loss: 0.9246 - accuracy: 0.4900\n",
      "Epoch 11/150\n",
      "100/100 [==============================] - 0s 280us/sample - loss: 0.9089 - accuracy: 0.6200\n",
      "Epoch 12/150\n",
      "100/100 [==============================] - 0s 280us/sample - loss: 0.8908 - accuracy: 0.6800\n",
      "Epoch 13/150\n",
      "100/100 [==============================] - 0s 280us/sample - loss: 0.8743 - accuracy: 0.7300\n",
      "Epoch 14/150\n",
      "100/100 [==============================] - 0s 290us/sample - loss: 0.8546 - accuracy: 0.7100\n",
      "Epoch 15/150\n",
      "100/100 [==============================] - 0s 280us/sample - loss: 0.8367 - accuracy: 0.7200\n",
      "Epoch 16/150\n",
      "100/100 [==============================] - 0s 280us/sample - loss: 0.8198 - accuracy: 0.7300\n",
      "Epoch 17/150\n",
      "100/100 [==============================] - 0s 290us/sample - loss: 0.8023 - accuracy: 0.7200\n",
      "Epoch 18/150\n",
      "100/100 [==============================] - 0s 290us/sample - loss: 0.7860 - accuracy: 0.7300\n",
      "Epoch 19/150\n",
      "100/100 [==============================] - 0s 280us/sample - loss: 0.7682 - accuracy: 0.7200\n",
      "Epoch 20/150\n",
      "100/100 [==============================] - 0s 270us/sample - loss: 0.7521 - accuracy: 0.7400\n",
      "Epoch 21/150\n",
      "100/100 [==============================] - 0s 280us/sample - loss: 0.7352 - accuracy: 0.7100\n",
      "Epoch 22/150\n",
      "100/100 [==============================] - 0s 280us/sample - loss: 0.7226 - accuracy: 0.7000\n",
      "Epoch 23/150\n",
      "100/100 [==============================] - 0s 280us/sample - loss: 0.7077 - accuracy: 0.7100\n",
      "Epoch 24/150\n",
      "100/100 [==============================] - 0s 280us/sample - loss: 0.6919 - accuracy: 0.7100\n",
      "Epoch 25/150\n",
      "100/100 [==============================] - 0s 270us/sample - loss: 0.6771 - accuracy: 0.7400\n",
      "Epoch 26/150\n",
      "100/100 [==============================] - 0s 290us/sample - loss: 0.6633 - accuracy: 0.7800\n",
      "Epoch 27/150\n",
      "100/100 [==============================] - 0s 280us/sample - loss: 0.6499 - accuracy: 0.7800\n",
      "Epoch 28/150\n",
      "100/100 [==============================] - 0s 290us/sample - loss: 0.6376 - accuracy: 0.7500\n",
      "Epoch 29/150\n",
      "100/100 [==============================] - 0s 300us/sample - loss: 0.6249 - accuracy: 0.7500\n",
      "Epoch 30/150\n",
      "100/100 [==============================] - 0s 310us/sample - loss: 0.6134 - accuracy: 0.7900\n",
      "Epoch 31/150\n",
      "100/100 [==============================] - 0s 290us/sample - loss: 0.6007 - accuracy: 0.7800\n",
      "Epoch 32/150\n",
      "100/100 [==============================] - 0s 290us/sample - loss: 0.5896 - accuracy: 0.7800\n",
      "Epoch 33/150\n",
      "100/100 [==============================] - 0s 290us/sample - loss: 0.5799 - accuracy: 0.7800\n",
      "Epoch 34/150\n",
      "100/100 [==============================] - 0s 290us/sample - loss: 0.5697 - accuracy: 0.8000\n",
      "Epoch 35/150\n",
      "100/100 [==============================] - 0s 260us/sample - loss: 0.5603 - accuracy: 0.7900\n",
      "Epoch 36/150\n",
      "100/100 [==============================] - 0s 270us/sample - loss: 0.5517 - accuracy: 0.8300\n",
      "Epoch 37/150\n",
      "100/100 [==============================] - 0s 270us/sample - loss: 0.5421 - accuracy: 0.8300\n",
      "Epoch 38/150\n",
      "100/100 [==============================] - 0s 260us/sample - loss: 0.5342 - accuracy: 0.8400\n",
      "Epoch 39/150\n",
      "100/100 [==============================] - 0s 250us/sample - loss: 0.5258 - accuracy: 0.8300\n",
      "Epoch 40/150\n",
      "100/100 [==============================] - 0s 250us/sample - loss: 0.5194 - accuracy: 0.8600\n",
      "Epoch 41/150\n",
      "100/100 [==============================] - 0s 300us/sample - loss: 0.5105 - accuracy: 0.8600\n",
      "Epoch 42/150\n",
      "100/100 [==============================] - 0s 260us/sample - loss: 0.5036 - accuracy: 0.8400\n",
      "Epoch 43/150\n",
      "100/100 [==============================] - 0s 280us/sample - loss: 0.4966 - accuracy: 0.8300\n",
      "Epoch 44/150\n",
      "100/100 [==============================] - 0s 270us/sample - loss: 0.4894 - accuracy: 0.8400\n",
      "Epoch 45/150\n",
      "100/100 [==============================] - 0s 250us/sample - loss: 0.4846 - accuracy: 0.8400\n",
      "Epoch 46/150\n",
      "100/100 [==============================] - 0s 260us/sample - loss: 0.4780 - accuracy: 0.8400\n",
      "Epoch 47/150\n",
      "100/100 [==============================] - 0s 270us/sample - loss: 0.4726 - accuracy: 0.8700\n",
      "Epoch 48/150\n",
      "100/100 [==============================] - 0s 260us/sample - loss: 0.4664 - accuracy: 0.8700\n",
      "Epoch 49/150\n",
      "100/100 [==============================] - 0s 280us/sample - loss: 0.4599 - accuracy: 0.8800\n",
      "Epoch 50/150\n",
      "100/100 [==============================] - 0s 240us/sample - loss: 0.4569 - accuracy: 0.8500\n",
      "Epoch 51/150\n",
      "100/100 [==============================] - 0s 260us/sample - loss: 0.4508 - accuracy: 0.8900\n",
      "Epoch 52/150\n",
      "100/100 [==============================] - 0s 270us/sample - loss: 0.4446 - accuracy: 0.8600\n",
      "Epoch 53/150\n",
      "100/100 [==============================] - 0s 220us/sample - loss: 0.4394 - accuracy: 0.8700\n",
      "Epoch 54/150\n",
      "100/100 [==============================] - 0s 280us/sample - loss: 0.4357 - accuracy: 0.8700\n",
      "Epoch 55/150\n",
      "100/100 [==============================] - 0s 270us/sample - loss: 0.4308 - accuracy: 0.8600\n",
      "Epoch 56/150\n",
      "100/100 [==============================] - 0s 260us/sample - loss: 0.4258 - accuracy: 0.8800\n",
      "Epoch 57/150\n",
      "100/100 [==============================] - 0s 260us/sample - loss: 0.4216 - accuracy: 0.8800\n",
      "Epoch 58/150\n",
      "100/100 [==============================] - 0s 270us/sample - loss: 0.4169 - accuracy: 0.8700\n",
      "Epoch 59/150\n",
      "100/100 [==============================] - 0s 260us/sample - loss: 0.4160 - accuracy: 0.8600\n",
      "Epoch 60/150\n",
      "100/100 [==============================] - 0s 270us/sample - loss: 0.4113 - accuracy: 0.8600\n",
      "Epoch 61/150\n",
      "100/100 [==============================] - 0s 260us/sample - loss: 0.4051 - accuracy: 0.8800\n",
      "Epoch 62/150\n",
      "100/100 [==============================] - 0s 270us/sample - loss: 0.4047 - accuracy: 0.8600\n",
      "Epoch 63/150\n",
      "100/100 [==============================] - 0s 270us/sample - loss: 0.4037 - accuracy: 0.8600\n",
      "Epoch 64/150\n",
      "100/100 [==============================] - 0s 260us/sample - loss: 0.3952 - accuracy: 0.8700\n",
      "Epoch 65/150\n",
      "100/100 [==============================] - 0s 230us/sample - loss: 0.3925 - accuracy: 0.8800\n",
      "Epoch 66/150\n",
      "100/100 [==============================] - 0s 290us/sample - loss: 0.3892 - accuracy: 0.8700\n",
      "Epoch 67/150\n",
      "100/100 [==============================] - 0s 260us/sample - loss: 0.3868 - accuracy: 0.8800\n",
      "Epoch 68/150\n",
      "100/100 [==============================] - 0s 230us/sample - loss: 0.3847 - accuracy: 0.8700\n",
      "Epoch 69/150\n",
      "100/100 [==============================] - 0s 260us/sample - loss: 0.3801 - accuracy: 0.8600\n",
      "Epoch 70/150\n",
      "100/100 [==============================] - 0s 230us/sample - loss: 0.3771 - accuracy: 0.8900\n",
      "Epoch 71/150\n",
      "100/100 [==============================] - 0s 250us/sample - loss: 0.3764 - accuracy: 0.8900\n",
      "Epoch 72/150\n",
      "100/100 [==============================] - 0s 250us/sample - loss: 0.3744 - accuracy: 0.8900\n",
      "Epoch 73/150\n",
      "100/100 [==============================] - 0s 250us/sample - loss: 0.3727 - accuracy: 0.8800\n",
      "Epoch 74/150\n",
      "100/100 [==============================] - 0s 240us/sample - loss: 0.3696 - accuracy: 0.8800\n",
      "Epoch 75/150\n",
      "100/100 [==============================] - 0s 250us/sample - loss: 0.3640 - accuracy: 0.9000\n",
      "Epoch 76/150\n",
      "100/100 [==============================] - 0s 237us/sample - loss: 0.3626 - accuracy: 0.8800\n",
      "Epoch 77/150\n",
      "100/100 [==============================] - 0s 240us/sample - loss: 0.3596 - accuracy: 0.8700\n",
      "Epoch 78/150\n"
     ]
    },
    {
     "name": "stdout",
     "output_type": "stream",
     "text": [
      "100/100 [==============================] - 0s 260us/sample - loss: 0.3573 - accuracy: 0.8800\n",
      "Epoch 79/150\n",
      "100/100 [==============================] - 0s 240us/sample - loss: 0.3543 - accuracy: 0.8700\n",
      "Epoch 80/150\n",
      "100/100 [==============================] - 0s 230us/sample - loss: 0.3518 - accuracy: 0.8700\n",
      "Epoch 81/150\n",
      "100/100 [==============================] - 0s 250us/sample - loss: 0.3485 - accuracy: 0.8800\n",
      "Epoch 82/150\n",
      "100/100 [==============================] - 0s 230us/sample - loss: 0.3462 - accuracy: 0.8900\n",
      "Epoch 83/150\n",
      "100/100 [==============================] - 0s 230us/sample - loss: 0.3452 - accuracy: 0.9000\n",
      "Epoch 84/150\n",
      "100/100 [==============================] - 0s 240us/sample - loss: 0.3414 - accuracy: 0.9000\n",
      "Epoch 85/150\n",
      "100/100 [==============================] - 0s 240us/sample - loss: 0.3409 - accuracy: 0.9100\n",
      "Epoch 86/150\n",
      "100/100 [==============================] - 0s 230us/sample - loss: 0.3389 - accuracy: 0.8900\n",
      "Epoch 87/150\n",
      "100/100 [==============================] - 0s 220us/sample - loss: 0.3341 - accuracy: 0.8900\n",
      "Epoch 88/150\n",
      "100/100 [==============================] - 0s 230us/sample - loss: 0.3311 - accuracy: 0.8800\n",
      "Epoch 89/150\n",
      "100/100 [==============================] - 0s 210us/sample - loss: 0.3333 - accuracy: 0.8800\n",
      "Epoch 90/150\n",
      "100/100 [==============================] - 0s 240us/sample - loss: 0.3312 - accuracy: 0.8800\n",
      "Epoch 91/150\n",
      "100/100 [==============================] - 0s 230us/sample - loss: 0.3273 - accuracy: 0.8800\n",
      "Epoch 92/150\n",
      "100/100 [==============================] - 0s 230us/sample - loss: 0.3222 - accuracy: 0.9000\n",
      "Epoch 93/150\n",
      "100/100 [==============================] - 0s 220us/sample - loss: 0.3201 - accuracy: 0.9000\n",
      "Epoch 94/150\n",
      "100/100 [==============================] - 0s 240us/sample - loss: 0.3188 - accuracy: 0.8800\n",
      "Epoch 95/150\n",
      "100/100 [==============================] - 0s 230us/sample - loss: 0.3155 - accuracy: 0.9000\n",
      "Epoch 96/150\n",
      "100/100 [==============================] - 0s 240us/sample - loss: 0.3135 - accuracy: 0.9100\n",
      "Epoch 97/150\n",
      "100/100 [==============================] - 0s 230us/sample - loss: 0.3094 - accuracy: 0.9100\n",
      "Epoch 98/150\n",
      "100/100 [==============================] - 0s 230us/sample - loss: 0.3090 - accuracy: 0.8800\n",
      "Epoch 99/150\n",
      "100/100 [==============================] - 0s 210us/sample - loss: 0.3082 - accuracy: 0.8900\n",
      "Epoch 100/150\n",
      "100/100 [==============================] - 0s 230us/sample - loss: 0.3054 - accuracy: 0.8800\n",
      "Epoch 101/150\n",
      "100/100 [==============================] - 0s 240us/sample - loss: 0.3015 - accuracy: 0.8800\n",
      "Epoch 102/150\n",
      "100/100 [==============================] - 0s 240us/sample - loss: 0.3009 - accuracy: 0.8800\n",
      "Epoch 103/150\n",
      "100/100 [==============================] - 0s 250us/sample - loss: 0.2973 - accuracy: 0.8800\n",
      "Epoch 104/150\n",
      "100/100 [==============================] - 0s 230us/sample - loss: 0.2957 - accuracy: 0.9100\n",
      "Epoch 105/150\n",
      "100/100 [==============================] - 0s 260us/sample - loss: 0.2923 - accuracy: 0.9100\n",
      "Epoch 106/150\n",
      "100/100 [==============================] - 0s 250us/sample - loss: 0.2912 - accuracy: 0.8900\n",
      "Epoch 107/150\n",
      "100/100 [==============================] - 0s 230us/sample - loss: 0.2874 - accuracy: 0.8800\n",
      "Epoch 108/150\n",
      "100/100 [==============================] - 0s 230us/sample - loss: 0.2865 - accuracy: 0.8900\n",
      "Epoch 109/150\n",
      "100/100 [==============================] - 0s 240us/sample - loss: 0.2872 - accuracy: 0.9000\n",
      "Epoch 110/150\n",
      "100/100 [==============================] - 0s 240us/sample - loss: 0.2806 - accuracy: 0.9000\n",
      "Epoch 111/150\n",
      "100/100 [==============================] - 0s 230us/sample - loss: 0.2794 - accuracy: 0.8900\n",
      "Epoch 112/150\n",
      "100/100 [==============================] - 0s 230us/sample - loss: 0.2773 - accuracy: 0.8900\n",
      "Epoch 113/150\n",
      "100/100 [==============================] - 0s 230us/sample - loss: 0.2745 - accuracy: 0.9100\n",
      "Epoch 114/150\n",
      "100/100 [==============================] - 0s 240us/sample - loss: 0.2726 - accuracy: 0.9100\n",
      "Epoch 115/150\n",
      "100/100 [==============================] - 0s 240us/sample - loss: 0.2728 - accuracy: 0.9200\n",
      "Epoch 116/150\n",
      "100/100 [==============================] - 0s 230us/sample - loss: 0.2693 - accuracy: 0.9000\n",
      "Epoch 117/150\n",
      "100/100 [==============================] - 0s 240us/sample - loss: 0.2668 - accuracy: 0.9100\n",
      "Epoch 118/150\n",
      "100/100 [==============================] - 0s 260us/sample - loss: 0.2642 - accuracy: 0.9100\n",
      "Epoch 119/150\n",
      "100/100 [==============================] - 0s 240us/sample - loss: 0.2625 - accuracy: 0.9100\n",
      "Epoch 120/150\n",
      "100/100 [==============================] - 0s 230us/sample - loss: 0.2613 - accuracy: 0.9200\n",
      "Epoch 121/150\n",
      "100/100 [==============================] - 0s 240us/sample - loss: 0.2588 - accuracy: 0.9100\n",
      "Epoch 122/150\n",
      "100/100 [==============================] - 0s 230us/sample - loss: 0.2600 - accuracy: 0.9000\n",
      "Epoch 123/150\n",
      "100/100 [==============================] - 0s 330us/sample - loss: 0.2535 - accuracy: 0.8900\n",
      "Epoch 124/150\n",
      "100/100 [==============================] - 0s 270us/sample - loss: 0.2530 - accuracy: 0.9200\n",
      "Epoch 125/150\n",
      "100/100 [==============================] - 0s 230us/sample - loss: 0.2516 - accuracy: 0.9200\n",
      "Epoch 126/150\n",
      "100/100 [==============================] - 0s 220us/sample - loss: 0.2489 - accuracy: 0.9200\n",
      "Epoch 127/150\n",
      "100/100 [==============================] - 0s 240us/sample - loss: 0.2499 - accuracy: 0.9100\n",
      "Epoch 128/150\n",
      "100/100 [==============================] - 0s 230us/sample - loss: 0.2482 - accuracy: 0.9000\n",
      "Epoch 129/150\n",
      "100/100 [==============================] - 0s 240us/sample - loss: 0.2443 - accuracy: 0.9100\n",
      "Epoch 130/150\n",
      "100/100 [==============================] - 0s 240us/sample - loss: 0.2428 - accuracy: 0.9200\n",
      "Epoch 131/150\n",
      "100/100 [==============================] - 0s 240us/sample - loss: 0.2421 - accuracy: 0.9200\n",
      "Epoch 132/150\n",
      "100/100 [==============================] - 0s 250us/sample - loss: 0.2427 - accuracy: 0.9200\n",
      "Epoch 133/150\n",
      "100/100 [==============================] - 0s 240us/sample - loss: 0.2427 - accuracy: 0.9000\n",
      "Epoch 134/150\n",
      "100/100 [==============================] - 0s 240us/sample - loss: 0.2367 - accuracy: 0.9200\n",
      "Epoch 135/150\n",
      "100/100 [==============================] - 0s 240us/sample - loss: 0.2333 - accuracy: 0.9200\n",
      "Epoch 136/150\n",
      "100/100 [==============================] - 0s 250us/sample - loss: 0.2333 - accuracy: 0.9200\n",
      "Epoch 137/150\n",
      "100/100 [==============================] - 0s 250us/sample - loss: 0.2319 - accuracy: 0.9200\n",
      "Epoch 138/150\n",
      "100/100 [==============================] - 0s 250us/sample - loss: 0.2313 - accuracy: 0.9200\n",
      "Epoch 139/150\n",
      "100/100 [==============================] - 0s 260us/sample - loss: 0.2303 - accuracy: 0.9100\n",
      "Epoch 140/150\n",
      "100/100 [==============================] - 0s 250us/sample - loss: 0.2257 - accuracy: 0.9300\n",
      "Epoch 141/150\n",
      "100/100 [==============================] - 0s 250us/sample - loss: 0.2272 - accuracy: 0.9200\n",
      "Epoch 142/150\n",
      "100/100 [==============================] - 0s 250us/sample - loss: 0.2227 - accuracy: 0.9300\n",
      "Epoch 143/150\n",
      "100/100 [==============================] - 0s 250us/sample - loss: 0.2235 - accuracy: 0.9100\n",
      "Epoch 144/150\n",
      "100/100 [==============================] - 0s 250us/sample - loss: 0.2202 - accuracy: 0.9300\n",
      "Epoch 145/150\n",
      "100/100 [==============================] - 0s 240us/sample - loss: 0.2190 - accuracy: 0.9200\n",
      "Epoch 146/150\n",
      "100/100 [==============================] - 0s 240us/sample - loss: 0.2166 - accuracy: 0.9300\n",
      "Epoch 147/150\n",
      "100/100 [==============================] - 0s 230us/sample - loss: 0.2150 - accuracy: 0.9200\n",
      "Epoch 148/150\n",
      "100/100 [==============================] - 0s 240us/sample - loss: 0.2161 - accuracy: 0.9200\n",
      "Epoch 149/150\n",
      "100/100 [==============================] - 0s 240us/sample - loss: 0.2142 - accuracy: 0.9200\n",
      "Epoch 150/150\n",
      "100/100 [==============================] - 0s 240us/sample - loss: 0.2112 - accuracy: 0.9400\n"
     ]
    },
    {
     "data": {
      "text/plain": [
       "<tensorflow.python.keras.callbacks.History at 0x220019b0f48>"
      ]
     },
     "execution_count": 33,
     "metadata": {},
     "output_type": "execute_result"
    }
   ],
   "source": [
    "model.fit(x=x_train, y=y_train, batch_size=16, epochs=150)"
   ]
  },
  {
   "cell_type": "code",
   "execution_count": 34,
   "metadata": {},
   "outputs": [
    {
     "name": "stdout",
     "output_type": "stream",
     "text": [
      "50/50 [==============================] - 0s 5ms/sample - loss: 0.1634 - accuracy: 0.9800\n"
     ]
    }
   ],
   "source": [
    "loss, acc = model.evaluate(x=x_test, y=y_test)"
   ]
  },
  {
   "cell_type": "code",
   "execution_count": 35,
   "metadata": {},
   "outputs": [
    {
     "name": "stdout",
     "output_type": "stream",
     "text": [
      "Model: \"sequential_2\"\n",
      "_________________________________________________________________\n",
      "Layer (type)                 Output Shape              Param #   \n",
      "=================================================================\n",
      "dense_6 (Dense)              multiple                  50        \n",
      "_________________________________________________________________\n",
      "dense_7 (Dense)              multiple                  88        \n",
      "_________________________________________________________________\n",
      "dense_8 (Dense)              multiple                  27        \n",
      "=================================================================\n",
      "Total params: 165\n",
      "Trainable params: 165\n",
      "Non-trainable params: 0\n",
      "_________________________________________________________________\n"
     ]
    }
   ],
   "source": [
    "model.summary()"
   ]
  },
  {
   "cell_type": "code",
   "execution_count": null,
   "metadata": {},
   "outputs": [],
   "source": []
  },
  {
   "cell_type": "code",
   "execution_count": null,
   "metadata": {},
   "outputs": [],
   "source": []
  },
  {
   "cell_type": "code",
   "execution_count": null,
   "metadata": {},
   "outputs": [],
   "source": []
  },
  {
   "cell_type": "code",
   "execution_count": null,
   "metadata": {},
   "outputs": [],
   "source": []
  }
 ],
 "metadata": {
  "kernelspec": {
   "display_name": "Python 3",
   "language": "python",
   "name": "python3"
  },
  "language_info": {
   "codemirror_mode": {
    "name": "ipython",
    "version": 3
   },
   "file_extension": ".py",
   "mimetype": "text/x-python",
   "name": "python",
   "nbconvert_exporter": "python",
   "pygments_lexer": "ipython3",
   "version": "3.7.4"
  }
 },
 "nbformat": 4,
 "nbformat_minor": 2
}
