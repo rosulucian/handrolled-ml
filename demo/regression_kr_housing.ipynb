{
 "cells": [
  {
   "cell_type": "code",
   "execution_count": 1,
   "metadata": {},
   "outputs": [],
   "source": [
    "from tensorflow.keras import Sequential\n",
    "from tensorflow.keras.layers import Dense"
   ]
  },
  {
   "cell_type": "code",
   "execution_count": 2,
   "metadata": {},
   "outputs": [],
   "source": [
    "import numpy as np\n",
    "from pandas import read_csv\n",
    "from sklearn.model_selection import train_test_split"
   ]
  },
  {
   "cell_type": "code",
   "execution_count": 3,
   "metadata": {},
   "outputs": [],
   "source": [
    "path = 'https://raw.githubusercontent.com/jbrownlee/Datasets/master/housing.csv'\n",
    "df = read_csv(path, header=None)"
   ]
  },
  {
   "cell_type": "code",
   "execution_count": 4,
   "metadata": {},
   "outputs": [
    {
     "data": {
      "text/plain": [
       "(506, 14)"
      ]
     },
     "execution_count": 4,
     "metadata": {},
     "output_type": "execute_result"
    }
   ],
   "source": [
    "df.shape"
   ]
  },
  {
   "cell_type": "code",
   "execution_count": 5,
   "metadata": {},
   "outputs": [],
   "source": [
    "x,y = df.values[:,:-1], df.values[:,-1]"
   ]
  },
  {
   "cell_type": "code",
   "execution_count": 6,
   "metadata": {},
   "outputs": [],
   "source": [
    "x_train, x_test, y_train, y_test = train_test_split(x,y, test_size=0.33)"
   ]
  },
  {
   "cell_type": "code",
   "execution_count": 18,
   "metadata": {},
   "outputs": [
    {
     "name": "stdout",
     "output_type": "stream",
     "text": [
      "(339, 13) (167, 13) (339,) (167,)\n"
     ]
    }
   ],
   "source": [
    "print(x_train.shape, x_test.shape, y_train.shape, y_test.shape)"
   ]
  },
  {
   "cell_type": "code",
   "execution_count": 7,
   "metadata": {},
   "outputs": [],
   "source": [
    "features = x.shape[1]"
   ]
  },
  {
   "cell_type": "code",
   "execution_count": 8,
   "metadata": {},
   "outputs": [],
   "source": [
    "model = Sequential()\n",
    "model.add(Dense(10, activation='relu', kernel_initializer='he_normal', input_shape=(features,)))\n",
    "model.add(Dense(8, activation='relu', kernel_initializer='he_normal'))\n",
    "model.add(Dense(1))"
   ]
  },
  {
   "cell_type": "code",
   "execution_count": 9,
   "metadata": {},
   "outputs": [],
   "source": [
    "model.compile(optimizer='adam', loss='mse')"
   ]
  },
  {
   "cell_type": "code",
   "execution_count": 10,
   "metadata": {},
   "outputs": [
    {
     "name": "stdout",
     "output_type": "stream",
     "text": [
      "Train on 339 samples\n",
      "Epoch 1/150\n",
      "339/339 [==============================] - 1s 3ms/sample - loss: 246636.1740\n",
      "Epoch 2/150\n",
      "339/339 [==============================] - 0s 124us/sample - loss: 170732.1011\n",
      "Epoch 3/150\n",
      "339/339 [==============================] - 0s 115us/sample - loss: 114276.7493\n",
      "Epoch 4/150\n",
      "339/339 [==============================] - 0s 130us/sample - loss: 77549.4204\n",
      "Epoch 5/150\n",
      "339/339 [==============================] - 0s 112us/sample - loss: 56257.3090\n",
      "Epoch 6/150\n",
      "339/339 [==============================] - 0s 100us/sample - loss: 41751.0663\n",
      "Epoch 7/150\n",
      "339/339 [==============================] - 0s 97us/sample - loss: 30705.4596\n",
      "Epoch 8/150\n",
      "339/339 [==============================] - 0s 97us/sample - loss: 22794.2192\n",
      "Epoch 9/150\n",
      "339/339 [==============================] - 0s 91us/sample - loss: 17139.8664\n",
      "Epoch 10/150\n",
      "339/339 [==============================] - 0s 91us/sample - loss: 13014.2094\n",
      "Epoch 11/150\n",
      "339/339 [==============================] - 0s 94us/sample - loss: 10104.3117\n",
      "Epoch 12/150\n",
      "339/339 [==============================] - 0s 97us/sample - loss: 7975.5366\n",
      "Epoch 13/150\n",
      "339/339 [==============================] - 0s 94us/sample - loss: 6506.5673\n",
      "Epoch 14/150\n",
      "339/339 [==============================] - 0s 97us/sample - loss: 5376.8651\n",
      "Epoch 15/150\n",
      "339/339 [==============================] - 0s 91us/sample - loss: 4522.1348\n",
      "Epoch 16/150\n",
      "339/339 [==============================] - 0s 94us/sample - loss: 3833.8254\n",
      "Epoch 17/150\n",
      "339/339 [==============================] - 0s 97us/sample - loss: 3290.6245\n",
      "Epoch 18/150\n",
      "339/339 [==============================] - 0s 100us/sample - loss: 2864.7422\n",
      "Epoch 19/150\n",
      "339/339 [==============================] - 0s 100us/sample - loss: 2508.2624\n",
      "Epoch 20/150\n",
      "339/339 [==============================] - 0s 100us/sample - loss: 2217.3021\n",
      "Epoch 21/150\n",
      "339/339 [==============================] - 0s 97us/sample - loss: 1977.8486\n",
      "Epoch 22/150\n",
      "339/339 [==============================] - 0s 94us/sample - loss: 1774.1004\n",
      "Epoch 23/150\n",
      "339/339 [==============================] - 0s 94us/sample - loss: 1609.9747\n",
      "Epoch 24/150\n",
      "339/339 [==============================] - 0s 106us/sample - loss: 1470.2688\n",
      "Epoch 25/150\n",
      "339/339 [==============================] - 0s 103us/sample - loss: 1349.4278\n",
      "Epoch 26/150\n",
      "339/339 [==============================] - 0s 124us/sample - loss: 1249.1122\n",
      "Epoch 27/150\n",
      "339/339 [==============================] - 0s 127us/sample - loss: 1162.3510\n",
      "Epoch 28/150\n",
      "339/339 [==============================] - 0s 121us/sample - loss: 1085.1172\n",
      "Epoch 29/150\n",
      "339/339 [==============================] - 0s 121us/sample - loss: 1018.8824\n",
      "Epoch 30/150\n",
      "339/339 [==============================] - 0s 100us/sample - loss: 959.6332\n",
      "Epoch 31/150\n",
      "339/339 [==============================] - 0s 109us/sample - loss: 904.3998\n",
      "Epoch 32/150\n",
      "339/339 [==============================] - 0s 103us/sample - loss: 855.7626\n",
      "Epoch 33/150\n",
      "339/339 [==============================] - 0s 118us/sample - loss: 811.7876\n",
      "Epoch 34/150\n",
      "339/339 [==============================] - 0s 103us/sample - loss: 769.2321\n",
      "Epoch 35/150\n",
      "339/339 [==============================] - 0s 103us/sample - loss: 731.1916\n",
      "Epoch 36/150\n",
      "339/339 [==============================] - 0s 97us/sample - loss: 693.1272\n",
      "Epoch 37/150\n",
      "339/339 [==============================] - 0s 91us/sample - loss: 659.1076\n",
      "Epoch 38/150\n",
      "339/339 [==============================] - 0s 88us/sample - loss: 625.4020\n",
      "Epoch 39/150\n",
      "339/339 [==============================] - 0s 91us/sample - loss: 595.2061\n",
      "Epoch 40/150\n",
      "339/339 [==============================] - 0s 91us/sample - loss: 567.2788\n",
      "Epoch 41/150\n",
      "339/339 [==============================] - 0s 100us/sample - loss: 540.8061\n",
      "Epoch 42/150\n",
      "339/339 [==============================] - 0s 109us/sample - loss: 518.4208\n",
      "Epoch 43/150\n",
      "339/339 [==============================] - 0s 106us/sample - loss: 497.1666\n",
      "Epoch 44/150\n",
      "339/339 [==============================] - 0s 106us/sample - loss: 476.8407\n",
      "Epoch 45/150\n",
      "339/339 [==============================] - 0s 115us/sample - loss: 458.7479\n",
      "Epoch 46/150\n",
      "339/339 [==============================] - 0s 112us/sample - loss: 440.7067\n",
      "Epoch 47/150\n",
      "339/339 [==============================] - 0s 165us/sample - loss: 425.3710\n",
      "Epoch 48/150\n",
      "339/339 [==============================] - 0s 121us/sample - loss: 409.9766\n",
      "Epoch 49/150\n",
      "339/339 [==============================] - 0s 124us/sample - loss: 395.9714\n",
      "Epoch 50/150\n",
      "339/339 [==============================] - 0s 139us/sample - loss: 383.2350\n",
      "Epoch 51/150\n",
      "339/339 [==============================] - 0s 112us/sample - loss: 371.4459\n",
      "Epoch 52/150\n",
      "339/339 [==============================] - 0s 121us/sample - loss: 361.2678\n",
      "Epoch 53/150\n",
      "339/339 [==============================] - 0s 118us/sample - loss: 351.8812\n",
      "Epoch 54/150\n",
      "339/339 [==============================] - 0s 118us/sample - loss: 343.0193\n",
      "Epoch 55/150\n",
      "339/339 [==============================] - 0s 109us/sample - loss: 335.3738\n",
      "Epoch 56/150\n",
      "339/339 [==============================] - 0s 121us/sample - loss: 327.9602\n",
      "Epoch 57/150\n",
      "339/339 [==============================] - 0s 118us/sample - loss: 322.0332\n",
      "Epoch 58/150\n",
      "339/339 [==============================] - 0s 112us/sample - loss: 314.5026\n",
      "Epoch 59/150\n",
      "339/339 [==============================] - 0s 106us/sample - loss: 308.6265\n",
      "Epoch 60/150\n",
      "339/339 [==============================] - 0s 112us/sample - loss: 302.7652\n",
      "Epoch 61/150\n",
      "339/339 [==============================] - 0s 109us/sample - loss: 296.5268\n",
      "Epoch 62/150\n",
      "339/339 [==============================] - 0s 103us/sample - loss: 291.3576\n",
      "Epoch 63/150\n",
      "339/339 [==============================] - 0s 112us/sample - loss: 285.5265\n",
      "Epoch 64/150\n",
      "339/339 [==============================] - 0s 103us/sample - loss: 280.1469\n",
      "Epoch 65/150\n",
      "339/339 [==============================] - 0s 162us/sample - loss: 275.3226\n",
      "Epoch 66/150\n",
      "339/339 [==============================] - 0s 127us/sample - loss: 270.3201\n",
      "Epoch 67/150\n",
      "339/339 [==============================] - 0s 112us/sample - loss: 265.9066\n",
      "Epoch 68/150\n",
      "339/339 [==============================] - 0s 115us/sample - loss: 260.3545\n",
      "Epoch 69/150\n",
      "339/339 [==============================] - 0s 106us/sample - loss: 256.1731\n",
      "Epoch 70/150\n",
      "339/339 [==============================] - 0s 118us/sample - loss: 252.5934\n",
      "Epoch 71/150\n",
      "339/339 [==============================] - 0s 118us/sample - loss: 248.6134\n",
      "Epoch 72/150\n",
      "339/339 [==============================] - 0s 115us/sample - loss: 244.9749\n",
      "Epoch 73/150\n",
      "339/339 [==============================] - 0s 106us/sample - loss: 241.5833\n",
      "Epoch 74/150\n",
      "339/339 [==============================] - 0s 112us/sample - loss: 238.1907\n",
      "Epoch 75/150\n",
      "339/339 [==============================] - 0s 115us/sample - loss: 234.9684\n",
      "Epoch 76/150\n",
      "339/339 [==============================] - 0s 115us/sample - loss: 231.8859\n",
      "Epoch 77/150\n",
      "339/339 [==============================] - 0s 109us/sample - loss: 228.7808\n",
      "Epoch 78/150\n",
      "339/339 [==============================] - 0s 109us/sample - loss: 225.9449\n",
      "Epoch 79/150\n",
      "339/339 [==============================] - 0s 106us/sample - loss: 223.0748\n",
      "Epoch 80/150\n",
      "339/339 [==============================] - 0s 112us/sample - loss: 220.4350\n",
      "Epoch 81/150\n",
      "339/339 [==============================] - 0s 123us/sample - loss: 217.9059\n",
      "Epoch 82/150\n",
      "339/339 [==============================] - 0s 106us/sample - loss: 214.3557\n",
      "Epoch 83/150\n",
      "339/339 [==============================] - 0s 106us/sample - loss: 211.7926\n",
      "Epoch 84/150\n",
      "339/339 [==============================] - 0s 106us/sample - loss: 209.4473\n",
      "Epoch 85/150\n",
      "339/339 [==============================] - 0s 100us/sample - loss: 206.8663\n",
      "Epoch 86/150\n",
      "339/339 [==============================] - 0s 100us/sample - loss: 204.1331\n",
      "Epoch 87/150\n",
      "339/339 [==============================] - 0s 103us/sample - loss: 201.8277\n",
      "Epoch 88/150\n",
      "339/339 [==============================] - 0s 103us/sample - loss: 199.3059\n",
      "Epoch 89/150\n",
      "339/339 [==============================] - 0s 109us/sample - loss: 197.5740\n",
      "Epoch 90/150\n",
      "339/339 [==============================] - 0s 109us/sample - loss: 194.8788\n",
      "Epoch 91/150\n",
      "339/339 [==============================] - 0s 109us/sample - loss: 193.2350\n",
      "Epoch 92/150\n"
     ]
    },
    {
     "name": "stdout",
     "output_type": "stream",
     "text": [
      "339/339 [==============================] - 0s 109us/sample - loss: 190.8960\n",
      "Epoch 93/150\n",
      "339/339 [==============================] - 0s 106us/sample - loss: 188.8062\n",
      "Epoch 94/150\n",
      "339/339 [==============================] - 0s 103us/sample - loss: 186.6562\n",
      "Epoch 95/150\n",
      "339/339 [==============================] - 0s 106us/sample - loss: 184.7286\n",
      "Epoch 96/150\n",
      "339/339 [==============================] - 0s 100us/sample - loss: 182.9474\n",
      "Epoch 97/150\n",
      "339/339 [==============================] - 0s 103us/sample - loss: 181.2312\n",
      "Epoch 98/150\n",
      "339/339 [==============================] - 0s 106us/sample - loss: 179.0931\n",
      "Epoch 99/150\n",
      "339/339 [==============================] - 0s 121us/sample - loss: 176.9971\n",
      "Epoch 100/150\n",
      "339/339 [==============================] - 0s 121us/sample - loss: 174.8226\n",
      "Epoch 101/150\n",
      "339/339 [==============================] - 0s 121us/sample - loss: 172.8644\n",
      "Epoch 102/150\n",
      "339/339 [==============================] - 0s 112us/sample - loss: 170.9911\n",
      "Epoch 103/150\n",
      "339/339 [==============================] - 0s 109us/sample - loss: 168.8153\n",
      "Epoch 104/150\n",
      "339/339 [==============================] - 0s 112us/sample - loss: 166.8982\n",
      "Epoch 105/150\n",
      "339/339 [==============================] - 0s 106us/sample - loss: 165.2841\n",
      "Epoch 106/150\n",
      "339/339 [==============================] - 0s 109us/sample - loss: 162.5808\n",
      "Epoch 107/150\n",
      "339/339 [==============================] - 0s 112us/sample - loss: 160.7543\n",
      "Epoch 108/150\n",
      "339/339 [==============================] - 0s 115us/sample - loss: 158.4386\n",
      "Epoch 109/150\n",
      "339/339 [==============================] - 0s 118us/sample - loss: 156.4995\n",
      "Epoch 110/150\n",
      "339/339 [==============================] - 0s 124us/sample - loss: 154.3112\n",
      "Epoch 111/150\n",
      "339/339 [==============================] - 0s 121us/sample - loss: 152.4424\n",
      "Epoch 112/150\n",
      "339/339 [==============================] - 0s 115us/sample - loss: 150.4776\n",
      "Epoch 113/150\n",
      "339/339 [==============================] - 0s 124us/sample - loss: 148.0662\n",
      "Epoch 114/150\n",
      "339/339 [==============================] - 0s 112us/sample - loss: 146.4694\n",
      "Epoch 115/150\n",
      "339/339 [==============================] - 0s 106us/sample - loss: 144.6898\n",
      "Epoch 116/150\n",
      "339/339 [==============================] - 0s 100us/sample - loss: 142.1979\n",
      "Epoch 117/150\n",
      "339/339 [==============================] - 0s 100us/sample - loss: 140.5733\n",
      "Epoch 118/150\n",
      "339/339 [==============================] - 0s 103us/sample - loss: 138.6366\n",
      "Epoch 119/150\n",
      "339/339 [==============================] - 0s 103us/sample - loss: 136.4658\n",
      "Epoch 120/150\n",
      "339/339 [==============================] - ETA: 0s - loss: 82.16 - 0s 106us/sample - loss: 134.4771\n",
      "Epoch 121/150\n",
      "339/339 [==============================] - 0s 106us/sample - loss: 132.5425\n",
      "Epoch 122/150\n",
      "339/339 [==============================] - 0s 115us/sample - loss: 130.6418\n",
      "Epoch 123/150\n",
      "339/339 [==============================] - 0s 103us/sample - loss: 128.9691\n",
      "Epoch 124/150\n",
      "339/339 [==============================] - 0s 106us/sample - loss: 127.2571\n",
      "Epoch 125/150\n",
      "339/339 [==============================] - 0s 103us/sample - loss: 125.6035\n",
      "Epoch 126/150\n",
      "339/339 [==============================] - 0s 103us/sample - loss: 124.2100\n",
      "Epoch 127/150\n",
      "339/339 [==============================] - 0s 109us/sample - loss: 122.9479\n",
      "Epoch 128/150\n",
      "339/339 [==============================] - 0s 106us/sample - loss: 121.5176\n",
      "Epoch 129/150\n",
      "339/339 [==============================] - 0s 103us/sample - loss: 119.9680\n",
      "Epoch 130/150\n",
      "339/339 [==============================] - 0s 106us/sample - loss: 118.5604\n",
      "Epoch 131/150\n",
      "339/339 [==============================] - 0s 109us/sample - loss: 117.2733\n",
      "Epoch 132/150\n",
      "339/339 [==============================] - 0s 115us/sample - loss: 116.3183\n",
      "Epoch 133/150\n",
      "339/339 [==============================] - 0s 124us/sample - loss: 114.9627\n",
      "Epoch 134/150\n",
      "339/339 [==============================] - 0s 124us/sample - loss: 113.8995\n",
      "Epoch 135/150\n",
      "339/339 [==============================] - 0s 112us/sample - loss: 113.0866\n",
      "Epoch 136/150\n",
      "339/339 [==============================] - 0s 103us/sample - loss: 111.9600\n",
      "Epoch 137/150\n",
      "339/339 [==============================] - 0s 100us/sample - loss: 111.0272\n",
      "Epoch 138/150\n",
      "339/339 [==============================] - 0s 103us/sample - loss: 110.3943\n",
      "Epoch 139/150\n",
      "339/339 [==============================] - 0s 100us/sample - loss: 109.4672\n",
      "Epoch 140/150\n",
      "339/339 [==============================] - 0s 109us/sample - loss: 108.8061\n",
      "Epoch 141/150\n",
      "339/339 [==============================] - 0s 103us/sample - loss: 107.8391\n",
      "Epoch 142/150\n",
      "339/339 [==============================] - 0s 103us/sample - loss: 107.0675\n",
      "Epoch 143/150\n",
      "339/339 [==============================] - 0s 103us/sample - loss: 106.4713\n",
      "Epoch 144/150\n",
      "339/339 [==============================] - 0s 106us/sample - loss: 105.5703\n",
      "Epoch 145/150\n",
      "339/339 [==============================] - 0s 109us/sample - loss: 104.9291\n",
      "Epoch 146/150\n",
      "339/339 [==============================] - 0s 103us/sample - loss: 104.2678\n",
      "Epoch 147/150\n",
      "339/339 [==============================] - 0s 109us/sample - loss: 103.4091\n",
      "Epoch 148/150\n",
      "339/339 [==============================] - 0s 100us/sample - loss: 102.7239\n",
      "Epoch 149/150\n",
      "339/339 [==============================] - 0s 103us/sample - loss: 102.6603\n",
      "Epoch 150/150\n",
      "339/339 [==============================] - 0s 106us/sample - loss: 101.8123\n"
     ]
    },
    {
     "data": {
      "text/plain": [
       "<tensorflow.python.keras.callbacks.History at 0x224d687ba48>"
      ]
     },
     "execution_count": 10,
     "metadata": {},
     "output_type": "execute_result"
    }
   ],
   "source": [
    "model.fit(x=x_train,y=y_train, batch_size=32, epochs=150)"
   ]
  },
  {
   "cell_type": "code",
   "execution_count": 12,
   "metadata": {},
   "outputs": [
    {
     "name": "stdout",
     "output_type": "stream",
     "text": [
      "167/167 [==============================] - 0s 114us/sample - loss: 99.5788\n"
     ]
    }
   ],
   "source": [
    "err = model.evaluate(x_test, y_test)"
   ]
  },
  {
   "cell_type": "code",
   "execution_count": 16,
   "metadata": {},
   "outputs": [
    {
     "data": {
      "text/plain": [
       "9.978918078942884"
      ]
     },
     "execution_count": 16,
     "metadata": {},
     "output_type": "execute_result"
    }
   ],
   "source": [
    "np.sqrt(err)"
   ]
  },
  {
   "cell_type": "code",
   "execution_count": 17,
   "metadata": {},
   "outputs": [
    {
     "name": "stdout",
     "output_type": "stream",
     "text": [
      "Model: \"sequential\"\n",
      "_________________________________________________________________\n",
      "Layer (type)                 Output Shape              Param #   \n",
      "=================================================================\n",
      "dense (Dense)                (None, 10)                140       \n",
      "_________________________________________________________________\n",
      "dense_1 (Dense)              (None, 8)                 88        \n",
      "_________________________________________________________________\n",
      "dense_2 (Dense)              (None, 1)                 9         \n",
      "=================================================================\n",
      "Total params: 237\n",
      "Trainable params: 237\n",
      "Non-trainable params: 0\n",
      "_________________________________________________________________\n"
     ]
    }
   ],
   "source": [
    "model.summary()"
   ]
  },
  {
   "cell_type": "code",
   "execution_count": null,
   "metadata": {},
   "outputs": [],
   "source": []
  },
  {
   "cell_type": "code",
   "execution_count": null,
   "metadata": {},
   "outputs": [],
   "source": []
  },
  {
   "cell_type": "code",
   "execution_count": null,
   "metadata": {},
   "outputs": [],
   "source": []
  },
  {
   "cell_type": "code",
   "execution_count": null,
   "metadata": {},
   "outputs": [],
   "source": []
  },
  {
   "cell_type": "code",
   "execution_count": null,
   "metadata": {},
   "outputs": [],
   "source": []
  },
  {
   "cell_type": "code",
   "execution_count": null,
   "metadata": {},
   "outputs": [],
   "source": []
  },
  {
   "cell_type": "code",
   "execution_count": null,
   "metadata": {},
   "outputs": [],
   "source": []
  }
 ],
 "metadata": {
  "kernelspec": {
   "display_name": "Python 3",
   "language": "python",
   "name": "python3"
  },
  "language_info": {
   "codemirror_mode": {
    "name": "ipython",
    "version": 3
   },
   "file_extension": ".py",
   "mimetype": "text/x-python",
   "name": "python",
   "nbconvert_exporter": "python",
   "pygments_lexer": "ipython3",
   "version": "3.7.4"
  }
 },
 "nbformat": 4,
 "nbformat_minor": 2
}
